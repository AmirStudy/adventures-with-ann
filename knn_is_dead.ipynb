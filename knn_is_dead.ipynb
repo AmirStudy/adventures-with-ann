{
 "cells": [
  {
   "cell_type": "markdown",
   "metadata": {},
   "source": [
    "# KNN (K-Nearest Neighbors) is Dead!\n",
    "[![Open In Colab](https://colab.research.google.com/assets/colab-badge.svg)](https://colab.research.google.com/github/googlecolab/colabtools/blob/master/notebooks/colab-github-demo.ipynb)\n",
    "\n",
    "Long live ANNs for their whopping 380X speedup over sklearn's KNN while delivering 99.3% similar results.\n",
    "\n",
    "![A Dead Tree in a desert](images/header.jpeg)\n",
    "\n",
    "We're living through an extinction-level event. No, not COVID19, I'm talking about the demise of the popular KNN algorithm that is taught in pretty much every Data Science course! Read on to find out what's replacing this staple in every Data Scientists' toolkit.\n",
    "\n",
    "# KNN Background\n",
    "Finding \"K\" similar items to any given item is widely known in the machine learning community as a \"similarity\" search or \"nearest neighbor\" (NN) search. The most widely known NN search algorithm is the K-Nearest Neighbours (KNN) algorithm. In KNN, given a collection of objects like an e-commerce catalog of handphones, we can find a small number (K) nearest neighbors from this entire catalog for any new search query. For example, in the below example, if you set K = 3, then the 3 nearest neighbors for each \"iPhone\" is another \"iPhone.\" Similarly, the 3 nearest neighbors to each \"Samsung\" are all Samsungs.\n",
    "\n",
    "| Title                                              |\n",
    "|----------------------------------------------------|\n",
    "| Apple iPhone 12/12 Pro and 12 Pro max              |\n",
    "| APPLE iPhone 12 2020 256GB SIM Free / Smart Phone  |\n",
    "| Samsung Galaxy Note20 - Ultra/5G/LTE/4G w Warranty |\n",
    "| APPLE IPHONE 12PRO MAX 256GB ONE YEAR WARRANTY     |\n",
    "| New Release Samsung Note 20 4G / Note 20 Ultra 5G  |\n",
    "| SAMSUNG GALAXY NOTE 20 ULTRA 5G                    |\n",
    "\n",
    "## Issue with KNN\n",
    "While KNN is great at finding similar items, it finds neighbors using an exhaustive pairwise distance computation. If your data contains 1000 items, then to find the K=3 nearest neighbors of a new product, the algorithm needs to perform 1000 distance computations of the new product to all the other products in your database. Well, that's not too bad, yet. But imagine a real-world Customer-to-Customer (C2C) marketplace with millions of products in the database and potentially thousands of new products uploaded every day. Comparing each new product to all the millions of products is wasteful and takes too much time, a.k.a not-scalable <b><i>at all</i></b>.\n",
    "\n",
    "## The Solution\n",
    "The solution to scale Nearest Neighbors to large data volumes is to sidestep the brute force distance computations completely and instead use a more sophisticated class of algorithms called Approximate Nearest Neighbors (ANN)."
   ]
  },
  {
   "cell_type": "markdown",
   "metadata": {},
   "source": [
    "# Approximate Nearest Neighbors (ANN)\n",
    "Strictly speaking, ANNs are a class of algorithms in which a small number of errors are allowed during the NN search. But in a real-world C2C marketplace where the number of \"real\" neighbors is higher than the \"K\" nearest neighbors being searched, ANNs can achieve remarkable accuracy on par with brute-force KNN within a fraction of the time. There are several ANN algorithms such as \n",
    "1. Spotify's [ANNOY](https://github.com/spotify/annoy)\n",
    "2. Google's [ScaNN](https://github.com/google-research/google-research/tree/master/scann)\n",
    "3. Facebook's [Faiss](https://github.com/facebookresearch/faiss)\n",
    "3. And my personal favourite: Hierarchical Navigable Small World graphs [HNSW](https://github.com/nmslib/hnswlib)\n",
    "\n",
    "The rest of this post benchmarks the KNN algorithm implemented in Python's `sklearn` to the excellent ANN algorithm called Hierarchical Navigable Small World (HNSW) graphs implemented in Python's `hnswlib` package. I'll use a large [Amazon product dataset](http://deepyeti.ucsd.edu/jianmo/amazon/) which contains 527000 products in the 'Cell Phones & Accessories' category to prove that HNSW is far superior in terms of speed (380X faster, to be precise) while delivering 99.3% similar results to sklearn's KNN.\n",
    "\n",
    "## Hierarchical Navigable Small World (HNSW)\n",
    "In HNSW [[paper @ arxiv]](https://arxiv.org/abs/1603.09320), the authors describe an ANN algorithm using a multi-layer graph. During element insertion, the HNSW graph is built incrementally by randomly selecting each element's maximum layer with an exponentially decaying probability distribution. This ensures that layer=0 has many elements to enable fine-search while layer=2 has $e^{-2}$ lower number of elements to facilitate coarse-search. The nearest neighbor search starts at the topmost layer with a coarse search and proceeds lower until the lowest layer using a greedy graph routing to traverse the graph and find the required number of neighbors.\n",
    "\n",
    "![HNSW Graph Structure](images/hnsw_graph.png \"HNSW graph structure. Nearest Neighbors search starts at the topmost layer (coarse search) and ends in the bottom-most layer (fine search)\")\n",
    "\n",
    "## HNSW Python package\n",
    "The whole HNSW algorithm has been written in C++ with Python bindings that can be pip installed on your machine by typing: `pip install hnswlib`. Once you install the package and import it, creating the HNSW graph requires a few steps that I have wrapped into a convenience function below. Once you have created the HNSW index, querying for \"K\" nearest neighbors is as simple as calling a single line of code as below.\n",
    "\n",
    "```\n",
    "ann_neighbor_indices, ann_distances = p.knn_query(features, k)\n",
    "```"
   ]
  },
  {
   "cell_type": "code",
   "execution_count": null,
   "metadata": {},
   "outputs": [],
   "source": [
    "!pip install hnswlib"
   ]
  },
  {
   "cell_type": "code",
   "execution_count": 1,
   "metadata": {},
   "outputs": [],
   "source": [
    "import hnswlib\n",
    "import numpy as np\n",
    "\n",
    "def fit_hnsw_index(features, ef=100, M=16, save_index_file=False):\n",
    "    # Convenience function to create HNSW graph\n",
    "    # features : list of lists containing the embeddings\n",
    "    # ef, M: parameters to tune the HNSW algorithm\n",
    "    \n",
    "    num_elements = len(features)\n",
    "    labels_index = np.arange(num_elements)\n",
    "    EMBEDDING_SIZE = len(features[0])\n",
    "    \n",
    "    # Declaring index\n",
    "    # possible space options are l2, cosine or ip\n",
    "    p = hnswlib.Index(space='l2', dim=EMBEDDING_SIZE)\n",
    "    \n",
    "    # Initing index - the maximum number of elements should be known\n",
    "    p.init_index(max_elements=num_elements, ef_construction=ef, M=M)\n",
    "    \n",
    "    # Element insertion\n",
    "    int_labels = p.add_items(features, labels_index)\n",
    "    \n",
    "    # Controlling the recall by setting ef\n",
    "    # ef should always be > k\n",
    "    p.set_ef(ef) \n",
    "    \n",
    "    # If you want to save the graph to a file\n",
    "    if save_index_file:\n",
    "         p.save_index(save_index_file)\n",
    "    \n",
    "    return p"
   ]
  },
  {
   "cell_type": "markdown",
   "metadata": {},
   "source": [
    "# KNN vs. ANN Benchmarking Experiment\n",
    "## Plan\n",
    "We'll first download a large dataset with 500K+ rows. Then we'll convert a text column to an `300d` embedding vector by using the pre-trained `fasttext` sentence vector. Then I'll train both KNN and HNSW ANN models on different lengths of the input data `[1000, 10000, 100000, len(data)]` to measure the impact of data size on the speed. Finally, I'll query `K = 10` and `100` nearest neighbors from both models to measure the impact of `K` on the speed. First, let's import the necessary packages and models. This will take some time as the `fasttext` model needs to be downloaded from the internet."
   ]
  },
  {
   "cell_type": "code",
   "execution_count": 1,
   "metadata": {
    "scrolled": true
   },
   "outputs": [
    {
     "name": "stderr",
     "output_type": "stream",
     "text": [
      "Warning : `load_model` does not return WordVectorModel or SupervisedModel any more, but a `FastText` object which is very similar.\n"
     ]
    }
   ],
   "source": [
    "# Imports\n",
    "# For input data pre-processing\n",
    "import json\n",
    "import gzip\n",
    "import pandas as pd\n",
    "import numpy as np\n",
    "import matplotlib.pyplot as plt\n",
    "import fasttext.util\n",
    "fasttext.util.download_model('en', if_exists='ignore') # English pre-trained model\n",
    "ft = fasttext.load_model('cc.en.300.bin')\n",
    "\n",
    "# For KNN vs ANN benchmarking\n",
    "from datetime import datetime\n",
    "from tqdm import tqdm\n",
    "from sklearn.neighbors import NearestNeighbors\n",
    "import hnswlib"
   ]
  },
  {
   "cell_type": "markdown",
   "metadata": {},
   "source": [
    "## Data\n",
    "We'll use the [Amazon product dataset](http://deepyeti.ucsd.edu/jianmo/amazon/), which contains 527000 products in the 'Cell Phones & Accessories' category. Download the dataset from the link and run the below code to convert it to a data frame. We only need the product title column as we will use it to search for similar products.\n",
    "\n",
    "If everything ran fine, you should see an output as below."
   ]
  },
  {
   "cell_type": "code",
   "execution_count": 2,
   "metadata": {},
   "outputs": [],
   "source": [
    "# Data: http://deepyeti.ucsd.edu/jianmo/amazon/\n",
    "data = []\n",
    "with gzip.open('meta_Cell_Phones_and_Accessories.json.gz') as f:\n",
    "    for l in f:\n",
    "        data.append(json.loads(l.strip()))"
   ]
  },
  {
   "cell_type": "code",
   "execution_count": 3,
   "metadata": {},
   "outputs": [
    {
     "name": "stdout",
     "output_type": "stream",
     "text": [
      "(527543, 1)\n"
     ]
    },
    {
     "data": {
      "text/html": [
       "<div>\n",
       "<style scoped>\n",
       "    .dataframe tbody tr th:only-of-type {\n",
       "        vertical-align: middle;\n",
       "    }\n",
       "\n",
       "    .dataframe tbody tr th {\n",
       "        vertical-align: top;\n",
       "    }\n",
       "\n",
       "    .dataframe thead th {\n",
       "        text-align: right;\n",
       "    }\n",
       "</style>\n",
       "<table border=\"1\" class=\"dataframe\">\n",
       "  <thead>\n",
       "    <tr style=\"text-align: right;\">\n",
       "      <th></th>\n",
       "      <th>title</th>\n",
       "    </tr>\n",
       "  </thead>\n",
       "  <tbody>\n",
       "    <tr>\n",
       "      <th>0</th>\n",
       "      <td>Puppies Faceplate Hard Case Protector for Net1...</td>\n",
       "    </tr>\n",
       "    <tr>\n",
       "      <th>1</th>\n",
       "      <td>White Wolf Faceplate Protector Hard Case for S...</td>\n",
       "    </tr>\n",
       "    <tr>\n",
       "      <th>2</th>\n",
       "      <td>Camo Duck Grass Rubberized Hard Case Phone Fac...</td>\n",
       "    </tr>\n",
       "    <tr>\n",
       "      <th>3</th>\n",
       "      <td>Camoflague Camo Usa Deer Combo Hybrid Hard Cas...</td>\n",
       "    </tr>\n",
       "    <tr>\n",
       "      <th>4</th>\n",
       "      <td>Motorola H700 Black - Non-Retail Packaging</td>\n",
       "    </tr>\n",
       "  </tbody>\n",
       "</table>\n",
       "</div>"
      ],
      "text/plain": [
       "                                               title\n",
       "0  Puppies Faceplate Hard Case Protector for Net1...\n",
       "1  White Wolf Faceplate Protector Hard Case for S...\n",
       "2  Camo Duck Grass Rubberized Hard Case Phone Fac...\n",
       "3  Camoflague Camo Usa Deer Combo Hybrid Hard Cas...\n",
       "4         Motorola H700 Black - Non-Retail Packaging"
      ]
     },
     "execution_count": 3,
     "metadata": {},
     "output_type": "execute_result"
    }
   ],
   "source": [
    "# Pre-Processing: https://colab.research.google.com/drive/1Zv6MARGQcrBbLHyjPVVMZVnRWsRnVMpV#scrollTo=LgWrDtZ94w89\n",
    "# Convert list into pandas dataframe\n",
    "df = pd.DataFrame.from_dict(data)\n",
    "df.fillna('', inplace=True)\n",
    "\n",
    "# Filter unformatted rows\n",
    "df = df[~df.title.str.contains('getTime')] \n",
    "\n",
    "# Restrict to just 'Cell Phones and Accessories'\n",
    "df = df[df['main_cat']=='Cell Phones & Accessories']\n",
    "\n",
    "# Reset index\n",
    "df.reset_index(inplace=True, drop=True)\n",
    "\n",
    "# Only keep the title columns\n",
    "df = df[['title']]\n",
    "\n",
    "# Check the df\n",
    "print(df.shape)\n",
    "df.head()"
   ]
  },
  {
   "cell_type": "markdown",
   "metadata": {},
   "source": [
    "## Embedding\n",
    "To run any similarity search on textual data, we must first convert it to a numeric vector. A fast and convenient approach uses a pre-trained network's embedding layer, such as the one provided by Facebook's [FastText](https://github.com/facebookresearch/fastText). Since we want all the rows to have the same length vector, irrespective of the number of words in the title, we shall apply the `get_sentence_vector` method on the `title` column in df. Once the embedding is completed, we extract the `emb` column as a list of lists to input into our NN algorithms. Ideally, you would run some text cleaning pre-processing before this step. Also, using a fine-tuned embedding model is generally a good idea. "
   ]
  },
  {
   "cell_type": "code",
   "execution_count": 4,
   "metadata": {},
   "outputs": [
    {
     "name": "stdout",
     "output_type": "stream",
     "text": [
      "527543\n"
     ]
    }
   ],
   "source": [
    "# Title Embedding using FastText Sentence Embedding\n",
    "df['emb'] = df['title'].apply(ft.get_sentence_vector)\n",
    "\n",
    "# Extract out the embeddings column as a list of lists for input to our NN algos\n",
    "X = [item.tolist() for item in df['emb'].values]"
   ]
  },
  {
   "cell_type": "markdown",
   "metadata": {},
   "source": [
    "## Benchmarking\n",
    "Now that we have the input to our algorithms let's run the benchmarking tests. We will run the test as a loop within a loop of the number of products in the search space and `K` nearest neighbors being searched. \n",
    "\n",
    "At each iteration, in addition to clocking the time taken by each algorithm, we check the `pct_overlap` as the ratio of the number of KNN nearest neighbors that were also picked up as nearest neighbors by the ANN.\n",
    "\n",
    "<b>Beware!</b> The whole test ran for ~6days on an 8 core, 30 GB RAM machine running 24x7, so this could take some time. Ideally, you could speed it up by multiprocessing since each run is independent of the other.\n",
    "\n",
    "The output at the end of this run looks as below. As you can already see from the table, the HNSW ANN completely blows away KNN!"
   ]
  },
  {
   "cell_type": "code",
   "execution_count": null,
   "metadata": {},
   "outputs": [],
   "source": [
    "# Number of products for benchmark loop\n",
    "n_products = [1000, 10000, 100000, len(X)]\n",
    "\n",
    "# Number of neighbors for benchmark loop\n",
    "n_neighbors = [10, 100]\n",
    "\n",
    "# Dictionary to save metric results for each iteration\n",
    "metrics = {'products':[], 'k':[], 'knn_time':[], 'ann_time':[], 'pct_overlap':[]}\n",
    "\n",
    "for products in tqdm(n_products):\n",
    "    # \"products\" number of products included in the search space\n",
    "    features = X[:products]\n",
    "    \n",
    "    for k in tqdm(n_neighbors):   \n",
    "        # \"K\" Nearest Neighbor search\n",
    "        # KNN \n",
    "        knn_start = datetime.now()\n",
    "        nbrs = NearestNeighbors(n_neighbors=k, metric='euclidean').fit(features)\n",
    "        knn_distances, knn_neighbor_indices = nbrs.kneighbors(X)\n",
    "        knn_end = datetime.now()\n",
    "        metrics['knn_time'].append((knn_end - knn_start).total_seconds())\n",
    "        \n",
    "        # HNSW ANN\n",
    "        ann_start = datetime.now()\n",
    "        p = fit_hnsw_index(features, ef=k*10)\n",
    "        ann_neighbor_indices, ann_distances = p.knn_query(features, k)\n",
    "        ann_end = datetime.now()\n",
    "        metrics['ann_time'].append((ann_end - ann_start).total_seconds())\n",
    "        \n",
    "        # Average Percent Overlap in Nearest Neighbors across all \"products\"\n",
    "        pct_overlap_per_product = [len(np.intersect1d(knn_neighbor_indices[i], ann_neighbor_indices[i]))/k for i in range(len(features))]\n",
    "        metrics['pct_overlap'].append(np.mean(pct_overlap_per_product))\n",
    "        \n",
    "        metrics['products'].append(products)\n",
    "        metrics['k'].append(k)\n",
    "        \n",
    "metrics_df = pd.DataFrame(metrics)\n",
    "metrics_df.to_csv('data/metrics_df.csv', index=False)"
   ]
  },
  {
   "cell_type": "code",
   "execution_count": 5,
   "metadata": {},
   "outputs": [
    {
     "data": {
      "text/html": [
       "<div>\n",
       "<style scoped>\n",
       "    .dataframe tbody tr th:only-of-type {\n",
       "        vertical-align: middle;\n",
       "    }\n",
       "\n",
       "    .dataframe tbody tr th {\n",
       "        vertical-align: top;\n",
       "    }\n",
       "\n",
       "    .dataframe thead th {\n",
       "        text-align: right;\n",
       "    }\n",
       "</style>\n",
       "<table border=\"1\" class=\"dataframe\">\n",
       "  <thead>\n",
       "    <tr style=\"text-align: right;\">\n",
       "      <th></th>\n",
       "      <th>products</th>\n",
       "      <th>k</th>\n",
       "      <th>knn_time</th>\n",
       "      <th>ann_time</th>\n",
       "      <th>pct_overlap</th>\n",
       "    </tr>\n",
       "  </thead>\n",
       "  <tbody>\n",
       "    <tr>\n",
       "      <th>0</th>\n",
       "      <td>1000</td>\n",
       "      <td>10</td>\n",
       "      <td>317.264154</td>\n",
       "      <td>0.070076</td>\n",
       "      <td>0.997300</td>\n",
       "    </tr>\n",
       "    <tr>\n",
       "      <th>1</th>\n",
       "      <td>1000</td>\n",
       "      <td>100</td>\n",
       "      <td>328.329048</td>\n",
       "      <td>0.160837</td>\n",
       "      <td>0.999980</td>\n",
       "    </tr>\n",
       "    <tr>\n",
       "      <th>2</th>\n",
       "      <td>10000</td>\n",
       "      <td>10</td>\n",
       "      <td>3631.279902</td>\n",
       "      <td>0.673280</td>\n",
       "      <td>0.978250</td>\n",
       "    </tr>\n",
       "    <tr>\n",
       "      <th>3</th>\n",
       "      <td>10000</td>\n",
       "      <td>100</td>\n",
       "      <td>3860.555030</td>\n",
       "      <td>2.900810</td>\n",
       "      <td>0.999416</td>\n",
       "    </tr>\n",
       "    <tr>\n",
       "      <th>4</th>\n",
       "      <td>100000</td>\n",
       "      <td>10</td>\n",
       "      <td>35636.506338</td>\n",
       "      <td>13.419513</td>\n",
       "      <td>0.963537</td>\n",
       "    </tr>\n",
       "    <tr>\n",
       "      <th>5</th>\n",
       "      <td>100000</td>\n",
       "      <td>100</td>\n",
       "      <td>40334.894742</td>\n",
       "      <td>84.812087</td>\n",
       "      <td>0.995560</td>\n",
       "    </tr>\n",
       "    <tr>\n",
       "      <th>6</th>\n",
       "      <td>527543</td>\n",
       "      <td>10</td>\n",
       "      <td>222900.147851</td>\n",
       "      <td>85.357864</td>\n",
       "      <td>0.935081</td>\n",
       "    </tr>\n",
       "    <tr>\n",
       "      <th>7</th>\n",
       "      <td>527543</td>\n",
       "      <td>100</td>\n",
       "      <td>243439.207189</td>\n",
       "      <td>634.716238</td>\n",
       "      <td>0.992623</td>\n",
       "    </tr>\n",
       "  </tbody>\n",
       "</table>\n",
       "</div>"
      ],
      "text/plain": [
       "   products    k       knn_time    ann_time  pct_overlap\n",
       "0      1000   10     317.264154    0.070076     0.997300\n",
       "1      1000  100     328.329048    0.160837     0.999980\n",
       "2     10000   10    3631.279902    0.673280     0.978250\n",
       "3     10000  100    3860.555030    2.900810     0.999416\n",
       "4    100000   10   35636.506338   13.419513     0.963537\n",
       "5    100000  100   40334.894742   84.812087     0.995560\n",
       "6    527543   10  222900.147851   85.357864     0.935081\n",
       "7    527543  100  243439.207189  634.716238     0.992623"
      ]
     },
     "execution_count": 5,
     "metadata": {},
     "output_type": "execute_result"
    }
   ],
   "source": [
    "metrics_df"
   ]
  },
  {
   "cell_type": "markdown",
   "metadata": {},
   "source": [
    "## Results\n",
    "Let's look at the benchmark results in the form of plots to appreciate the difference's magnitude truly. I'll use standard `matplotlib` code to plot these graphs. The X-axis is in `log` scale. The difference is spectacular! HNSW ANN knocks KNN out of the park in terms of time required to query `K=10` and `100` nearest neighbors. When the search space contains `~500K` products, searching for 100 nearest neighbors is 380X faster on ANN!!! At the same time, both KNN and ANN find 99.3% same nearest neighbors. "
   ]
  },
  {
   "cell_type": "code",
   "execution_count": 1,
   "metadata": {},
   "outputs": [],
   "source": [
    "import pandas as pd\n",
    "import matplotlib.pyplot as plt"
   ]
  },
  {
   "cell_type": "code",
   "execution_count": 2,
   "metadata": {},
   "outputs": [
    {
     "data": {
      "text/html": [
       "<div>\n",
       "<style scoped>\n",
       "    .dataframe tbody tr th:only-of-type {\n",
       "        vertical-align: middle;\n",
       "    }\n",
       "\n",
       "    .dataframe tbody tr th {\n",
       "        vertical-align: top;\n",
       "    }\n",
       "\n",
       "    .dataframe thead th {\n",
       "        text-align: right;\n",
       "    }\n",
       "</style>\n",
       "<table border=\"1\" class=\"dataframe\">\n",
       "  <thead>\n",
       "    <tr style=\"text-align: right;\">\n",
       "      <th></th>\n",
       "      <th>products</th>\n",
       "      <th>k</th>\n",
       "      <th>knn_time</th>\n",
       "      <th>ann_time</th>\n",
       "      <th>pct_overlap</th>\n",
       "    </tr>\n",
       "  </thead>\n",
       "  <tbody>\n",
       "    <tr>\n",
       "      <th>0</th>\n",
       "      <td>1000</td>\n",
       "      <td>10</td>\n",
       "      <td>317.264154</td>\n",
       "      <td>0.070076</td>\n",
       "      <td>0.997300</td>\n",
       "    </tr>\n",
       "    <tr>\n",
       "      <th>1</th>\n",
       "      <td>1000</td>\n",
       "      <td>100</td>\n",
       "      <td>328.329048</td>\n",
       "      <td>0.160837</td>\n",
       "      <td>0.999980</td>\n",
       "    </tr>\n",
       "    <tr>\n",
       "      <th>2</th>\n",
       "      <td>10000</td>\n",
       "      <td>10</td>\n",
       "      <td>3631.279902</td>\n",
       "      <td>0.673280</td>\n",
       "      <td>0.978250</td>\n",
       "    </tr>\n",
       "    <tr>\n",
       "      <th>3</th>\n",
       "      <td>10000</td>\n",
       "      <td>100</td>\n",
       "      <td>3860.555030</td>\n",
       "      <td>2.900810</td>\n",
       "      <td>0.999416</td>\n",
       "    </tr>\n",
       "    <tr>\n",
       "      <th>4</th>\n",
       "      <td>100000</td>\n",
       "      <td>10</td>\n",
       "      <td>35636.506338</td>\n",
       "      <td>13.419513</td>\n",
       "      <td>0.963537</td>\n",
       "    </tr>\n",
       "  </tbody>\n",
       "</table>\n",
       "</div>"
      ],
      "text/plain": [
       "   products    k      knn_time   ann_time  pct_overlap\n",
       "0      1000   10    317.264154   0.070076     0.997300\n",
       "1      1000  100    328.329048   0.160837     0.999980\n",
       "2     10000   10   3631.279902   0.673280     0.978250\n",
       "3     10000  100   3860.555030   2.900810     0.999416\n",
       "4    100000   10  35636.506338  13.419513     0.963537"
      ]
     },
     "execution_count": 2,
     "metadata": {},
     "output_type": "execute_result"
    }
   ],
   "source": [
    "metrics_df = pd.read_csv('data/metrics_df.csv')\n",
    "metrics_df.head()"
   ]
  },
  {
   "cell_type": "code",
   "execution_count": 3,
   "metadata": {},
   "outputs": [
    {
     "data": {
      "image/png": "[encoded data removed]",
      "text/plain": [
       "<Figure size 720x360 with 2 Axes>"
      ]
     },
     "metadata": {
      "needs_background": "light"
     },
     "output_type": "display_data"
    }
   ],
   "source": [
    "k10_df = metrics_df[metrics_df['k']==10]\n",
    "k100_df = metrics_df[metrics_df['k']==100]\n",
    "\n",
    "fig = plt.figure(figsize=(10,5))\n",
    "\n",
    "ax1 = fig.add_subplot(1,2,1)\n",
    "ax1.plot(k10_df['products'], k10_df['knn_time'], label='KNN', linewidth=2, marker='o')\n",
    "ax1.plot(k10_df['products'], k10_df['ann_time'], label='ANN', linewidth=2, marker='s')\n",
    "ax1.set_xscale('log')\n",
    "ax1.set_ylim(-10000, 250000)\n",
    "ax1.legend(fontsize=15)\n",
    "ax1.set_title('K = 10', fontsize=15)\n",
    "ax1.set_xlabel('Number of Products', fontsize=15)\n",
    "ax1.set_ylabel('Query Time (s)', fontsize=15)\n",
    "\n",
    "ax2 = fig.add_subplot(1,2,2)\n",
    "ax2.plot(k100_df['products'], k100_df['knn_time'], label='KNN', linewidth=2, marker='o')\n",
    "ax2.plot(k100_df['products'], k100_df['ann_time'], label='ANN', linewidth=2, marker='s')\n",
    "ax2.set_xscale('log')\n",
    "ax2.set_ylim(-10000, 250000)\n",
    "ax2.legend(fontsize=15)\n",
    "ax2.set_title('K = 100', fontsize=15)\n",
    "ax2.set_xlabel('Number of Products', fontsize=15)\n",
    "\n",
    "plt.suptitle('Nearest Neighbors Query Time (s)', fontsize=15)\n",
    "plt.tight_layout()"
   ]
  },
  {
   "cell_type": "code",
   "execution_count": 4,
   "metadata": {},
   "outputs": [
    {
     "data": {
      "image/png": "[encoded data removed]",
      "text/plain": [
       "<Figure size 720x360 with 1 Axes>"
      ]
     },
     "metadata": {
      "needs_background": "light"
     },
     "output_type": "display_data"
    }
   ],
   "source": [
    "fig = plt.figure(figsize=(10,5))\n",
    "plt.plot(k10_df['products'], k10_df['pct_overlap'], label='K=10', linewidth=2, marker='o')\n",
    "plt.plot(k100_df['products'], k100_df['pct_overlap'], label='K=100', linewidth=2, marker='s')\n",
    "plt.title('Nearest Neighbors Overlap Ratio between KNN and HNSW ANN', fontsize=15)\n",
    "plt.xlabel('Number of Products', fontsize=15)\n",
    "plt.ylabel('Nearest Neighbors Overlap Ratio', fontsize=15)\n",
    "plt.legend(fontsize=15)\n",
    "plt.xscale('log')"
   ]
  },
  {
   "cell_type": "markdown",
   "metadata": {},
   "source": [
    "With these results, I think it's safe to say, \"KNN is dead!\", there is no reasonable reason to use `sklearn's` KNN anymore. I hope you found this post useful! Thank you for reading!"
   ]
  }
 ],
 "metadata": {
  "environment": {
   "name": "tf2-2-3-gpu.2-3.m59",
   "type": "gcloud",
   "uri": "gcr.io/deeplearning-platform-release/tf2-2-3-gpu.2-3:m59"
  },
  "kernelspec": {
   "display_name": "Python 3",
   "language": "python",
   "name": "python3"
  },
  "language_info": {
   "codemirror_mode": {
    "name": "ipython",
    "version": 3
   },
   "file_extension": ".py",
   "mimetype": "text/x-python",
   "name": "python",
   "nbconvert_exporter": "python",
   "pygments_lexer": "ipython3",
   "version": "3.7.6"
  }
 },
 "nbformat": 4,
 "nbformat_minor": 4
}
